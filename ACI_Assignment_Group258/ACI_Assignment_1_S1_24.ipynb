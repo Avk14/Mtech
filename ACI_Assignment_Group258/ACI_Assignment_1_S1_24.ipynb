{
 "cells": [
  {
   "cell_type": "markdown",
   "metadata": {
    "id": "MzZ4dJQYF7sH"
   },
   "source": [
    "# Artificial and Computational Intelligence Assignment 1"
   ]
  },
  {
   "cell_type": "markdown",
   "metadata": {
    "id": "Fxb1aE9zF7sK"
   },
   "source": [
    "## Problem solving by Uninformed & Informed Search"
   ]
  },
  {
   "cell_type": "markdown",
   "metadata": {
    "id": "h35jIBbCF7sK"
   },
   "source": [
    "List all the team members BITS ID ,Name along with % of contribution in this assignment: sample Provided below:\n",
    "1. 2024ab05257 - Mansi Dnyaneshwar Sukadkar  -   100% \n",
    "2. 2024ab05258 - Anurag Vishwajeet Kulkarni  -   100%\n",
    "3. 2024ab05259 - Devi Jagadeesh              -   100%\n",
    "4. 2024ab05260 - Veeresh G N                 -   100%\n",
    "5. 2024ab05261 - Kintul RavindraKumar Upadhyay -  100%"
   ]
  },
  {
   "cell_type": "markdown",
   "metadata": {
    "id": "Vt74xbLjECic"
   },
   "source": [
    "![image.png](data:image/png;base64,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)"
   ]
  },
  {
   "cell_type": "markdown",
   "metadata": {
    "id": "pt5ygv_zF7sL"
   },
   "source": [
    "Things to follow\n",
    "1.\tUse appropriate data structures to represent the graph and the path using python libraries\n",
    "2.\tProvide proper documentation\n",
    "3.\tFind the path and print it"
   ]
  },
  {
   "cell_type": "markdown",
   "metadata": {
    "id": "wZfop5ElF7sL"
   },
   "source": [
    "Coding begins here"
   ]
  },
  {
   "cell_type": "markdown",
   "metadata": {
    "id": "IL0QDMy3F7sL"
   },
   "source": [
    "### 1.\tDefine the environment in the following block"
   ]
  },
  {
   "cell_type": "markdown",
   "metadata": {
    "id": "RYwJPNLIF7sM"
   },
   "source": [
    "List the PEAS decription of the problem here in this markdown block"
   ]
  },
  {
   "cell_type": "markdown",
   "metadata": {
    "id": "XJ3cHp1IF7sM"
   },
   "source": [
    "Design the agent as PSA Agent(Problem Solving Agent)\n",
    "Clear Initial data structures to define the graph and variable declarations is expected\n",
    "IMPORTATANT: Write distinct code block as below"
   ]
  },
  {
   "cell_type": "code",
   "execution_count": 1,
   "metadata": {
    "id": "osp61RsLF7sN"
   },
   "outputs": [],
   "source": [
    "#Code Block : Set Initial State (Must handle dynamic inputs)\n",
    "import cv2\n",
    "import numpy as np\n",
    "from enum import Enum\n",
    "\n",
    "image = cv2.imread(\"StateSpace.png\")\n",
    "RabbitPos = []\n",
    "goal = []\n",
    "row_input, col_input = 0,0\n",
    "K = 0\n"
   ]
  },
  {
   "cell_type": "code",
   "execution_count": 2,
   "metadata": {
    "id": "XODwoWZ0F7sO"
   },
   "outputs": [],
   "source": [
    "#Code Block : Set the matrix for transition & cost (as relevant for the given problem)\n",
    "\n",
    "\n",
    "class Block:\n",
    "    \n",
    "  #Enum defining cost value for each block depending on block type\n",
    "  class BlockType(Enum):\n",
    "    FIRE = 8\n",
    "    BUSH = 4\n",
    "    NORMAL = 3\n",
    "  \n",
    "  #Initialising Block object\n",
    "  def __init__(self,top,bottom,right,left,blocktype):\n",
    "    self.top = top\n",
    "    self.bottom = bottom\n",
    "    self.right = right\n",
    "    self.left = left\n",
    "    self.blocktype = blocktype\n",
    "\n",
    "  #Finds block type and walls present for each cell in the provided picture grid and returns Block object\n",
    "  def subImageProcessor(subimage):\n",
    "    top = sum(subimage[0,25])/3 < 100\n",
    "    bottom = sum(subimage[49,25])/3 < 100\n",
    "    right = sum(subimage[25,49])/3 < 100\n",
    "    left = sum(subimage[25,0])/3 < 100\n",
    "    if sum(subimage[25,25])/3 == 255:\n",
    "      blocktype = Block.BlockType.NORMAL\n",
    "    elif sum(subimage[25,25])/3 < 100:\n",
    "      blocktype = Block.BlockType.BUSH\n",
    "    else :\n",
    "      blocktype = Block.BlockType.FIRE\n",
    "\n",
    "    return Block(top,bottom,right,left,blocktype)\n",
    "\n",
    "#Creates matrix of Block class objects defining each cell in grid\n",
    "def createMatrix(row_input, col_input):\n",
    "  for col in range(0,col_input):\n",
    "    for row in range(0,row_input):\n",
    "      matrix[row][col]=Block.subImageProcessor(image[(50*row):(50*(row+1)),(50*col):(50*(col+1))])\n"
   ]
  },
  {
   "cell_type": "code",
   "execution_count": 3,
   "metadata": {
    "id": "ro24Gaj7F7sO"
   },
   "outputs": [],
   "source": [
    "#Code Block : Write function to design the Transition Model/Successor function. Ideally this would be called while search algorithms are implemented\n",
    "\n",
    "class TreeNode:\n",
    "\n",
    "  #Initialising TreeNode object\n",
    "  def __init__(self,x,y,entry,pathcost, parent = None):\n",
    "    self.x=x\n",
    "    self.y=y\n",
    "    self.entry=entry\n",
    "    self.parent = parent\n",
    "    self.heuristic = self.heuristicCal(x,y)\n",
    "    self.pathcost = pathcost + matrix[x][y].blocktype.value\n",
    "    self.children = []\n",
    "    \n",
    "  #Prints x,y values for node\n",
    "  def __repr__(self):\n",
    "    return f\"({self.x}, {self.y})\"\n",
    "    \n",
    "    \n",
    "  #Calculate Heuristic value for nodes using Manhattan distance\n",
    "  def heuristicCal(self,x,y):\n",
    "    return abs(x-goal[0])+abs(y-goal[1])\n",
    "\n",
    "  \n",
    "  #Print path from source node to goal node\n",
    "  def printPath(node):\n",
    "    path = []\n",
    "    while node != None:\n",
    "      path.append(node)\n",
    "      node = node.parent\n",
    "    path = path[::-1]\n",
    "    print(\"Path \",end=\"=> \")\n",
    "    for pathnode in path[0:-1]:\n",
    "      print(pathnode,end=\" -> \")\n",
    "    print(path[-1])\n",
    "\n",
    "  #Add children nodes for each node which is to be expanded\n",
    "  def addNodes(parent):\n",
    "\n",
    "    if not(matrix[parent.x][parent.y].left) and not(parent.entry == \"left\") :\n",
    "      parent.children.append(TreeNode(parent.x,parent.y-1,\"right\",parent.pathcost, parent))\n",
    "\n",
    "    if not(matrix[parent.x][parent.y].right) and not(parent.entry == \"right\") :\n",
    "      parent.children.append(TreeNode(parent.x,parent.y+1,\"left\",parent.pathcost, parent))\n",
    "\n",
    "    if not(matrix[parent.x][parent.y].top) and not(parent.entry == \"top\") :\n",
    "      parent.children.append(TreeNode(parent.x-1,parent.y,\"bottom\",parent.pathcost, parent))\n",
    "\n",
    "    if not(matrix[parent.x][parent.y].bottom) and not(parent.entry == \"bottom\") :\n",
    "      parent.children.append(TreeNode(parent.x+1,parent.y,\"top\",parent.pathcost, parent))\n"
   ]
  },
  {
   "cell_type": "code",
   "execution_count": 4,
   "metadata": {
    "id": "HIVPhrRWF7sO"
   },
   "outputs": [],
   "source": [
    "#Code block : Write fucntion to handle goal test (Must handle dynamic inputs). Ideally this would be called while search algorithms are implemented\n",
    "\n",
    "def isGoal(node):\n",
    "    return node.heuristic == 0 "
   ]
  },
  {
   "cell_type": "markdown",
   "metadata": {
    "id": "Z4QwDeX5F7sO"
   },
   "source": [
    "### 2.\tDefinition of Algorithm 1 (Greedy best first Search Algorithm)"
   ]
  },
  {
   "cell_type": "code",
   "execution_count": 5,
   "metadata": {
    "id": "zD_EPCHWF7sO"
   },
   "outputs": [],
   "source": [
    "#Code Block : Function for Greedy best first Search Algorithm implementation\n",
    "\n",
    "#Expanding tree based on minimum heuristic value starting with source node\n",
    "def expandTreeGreedy(parentNode):\n",
    "  if len(parentNode.children) == 0:\n",
    "    print(\"No solution\")\n",
    "    return\n",
    "  newParentNode = min(parentNode.children[::-1], key=lambda child: child.heuristic)\n",
    "  if isGoal(newParentNode) :\n",
    "    print(\"Goal reached , Pathcost: \",newParentNode.pathcost)\n",
    "    TreeNode.printPath(newParentNode)\n",
    "    return\n",
    "  TreeNode.addNodes(newParentNode)\n",
    "  expandTreeGreedy(newParentNode)\n"
   ]
  },
  {
   "cell_type": "markdown",
   "metadata": {
    "id": "KnbdDl6HF7sO"
   },
   "source": [
    "### 3.\tDefinition of Algorithm 2 (Local Beam Search Algorithm)"
   ]
  },
  {
   "cell_type": "code",
   "execution_count": 6,
   "metadata": {
    "id": "3HYh7-eJF7sP"
   },
   "outputs": [],
   "source": [
    "#Code Block : Function for Local Beam Search Algorithm implementation\n",
    "\n",
    "#Expanding K nodes based on minimum heuristic value starting with source node\n",
    "def expandTreeLocalBeam(listnode):\n",
    "  childlist = []\n",
    "  for node  in listnode:\n",
    "    if isGoal(node):\n",
    "      print(\"Goal reached , Pathcost: \",node.pathcost)\n",
    "      TreeNode.printPath(node)\n",
    "      return\n",
    "    TreeNode.addNodes(node)\n",
    "    childlist.extend(node.children)\n",
    "\n",
    "  if len(childlist)== 0:\n",
    "    print(\"No solution\")\n",
    "    return\n",
    "  childlist.sort(key=lambda child: child.heuristic)\n",
    "  expandTreeLocalBeam(childlist[0:K])"
   ]
  },
  {
   "cell_type": "markdown",
   "metadata": {
    "id": "LEV2XHccF7sP"
   },
   "source": [
    "### DYNAMIC INPUT"
   ]
  },
  {
   "cell_type": "markdown",
   "metadata": {
    "id": "CylYRo_DF7sP"
   },
   "source": [
    "IMPORTANT : Dynamic Input must be got in this section. Display the possible states to choose from:\n",
    "This is applicable for all the relevent problems as mentioned in the question."
   ]
  },
  {
   "cell_type": "code",
   "execution_count": 7,
   "metadata": {
    "id": "Q5t1Lc-wF7sP"
   },
   "outputs": [
    {
     "name": "stdout",
     "output_type": "stream",
     "text": [
      "Enter number of rows and columns separated by space: 7 6\n",
      "Enter rabbit position separated by space: 0 2\n",
      "Enter entry direction [top,bottom,right,left]: top\n",
      "Enter goal position separated by space: 6 4\n"
     ]
    }
   ],
   "source": [
    "#Code Block : Function & call to get inputs (start/end state)\n",
    "\n",
    "\n",
    "def main():\n",
    "  global matrix\n",
    "  matrix = np.empty((row_input,col_input),dtype=object)\n",
    "  createMatrix(row_input, col_input)\n",
    "  global rootnode\n",
    "  rootnode = TreeNode(RabbitPos[0],RabbitPos[1],entry,0)\n",
    "  if isGoal(rootnode) :\n",
    "    print(\"Goal reached , Pathcost: \",rootnode.pathcost)\n",
    "\n",
    "  TreeNode.addNodes(rootnode)\n",
    "\n",
    "\n",
    "\n",
    "while True:\n",
    "    try:\n",
    "        row_input, col_input = map(int, input(\"Enter number of rows and columns separated by space: \").split())\n",
    "        if row_input > 0 and col_input > 0:\n",
    "            RabbitPos = list(map(int, input(\"Enter rabbit position separated by space: \").split()))\n",
    "            entry = input(\"Enter entry direction [top,bottom,right,left]: \")\n",
    "            goal = list(map(int, input(\"Enter goal position separated by space: \").split()))\n",
    "            if RabbitPos[0] >= 0 and RabbitPos[0] < row_input and RabbitPos[1] >= 0 and RabbitPos[1] < col_input and goal[0] >= 0 and goal[0] < row_input and goal[1] >= 0 and goal[1] < col_input:\n",
    "                main()\n",
    "                break\n",
    "            else:\n",
    "                print(\"Invalid input. Please enter values within the specified range.\")\n",
    "        else:\n",
    "            print(\"Invalid input. Please enter positive numbers only.\")\n",
    "    except ValueError:\n",
    "        print(\"Invalid input. Please enter two numbers separated by space.\")\n",
    "\n",
    "\n"
   ]
  },
  {
   "cell_type": "markdown",
   "metadata": {
    "id": "xsfOP81lF7sP"
   },
   "source": [
    "### 4.\tCalling the search algorithms\n",
    "(For bidirectional search in below sections first part can be used as per Hint provided. Under second section other combinations as per Hint or your choice of 2 algorithms can be called .As an analyst suggest suitable approximation in the comparitive analysis section)"
   ]
  },
  {
   "cell_type": "code",
   "execution_count": 8,
   "metadata": {
    "id": "Og5zI9thF7sP"
   },
   "outputs": [
    {
     "name": "stdout",
     "output_type": "stream",
     "text": [
      "Goal reached , Pathcost:  27\n",
      "Path => (0, 2) -> (1, 2) -> (2, 2) -> (3, 2) -> (4, 2) -> (4, 3) -> (4, 4) -> (5, 4) -> (6, 4)\n"
     ]
    }
   ],
   "source": [
    "#Invoke algorithm 1 (Should Print the solution, path, cost etc., (As mentioned in the problem))\n",
    "\n",
    "expandTreeGreedy(rootnode)"
   ]
  },
  {
   "cell_type": "code",
   "execution_count": 9,
   "metadata": {
    "id": "u3MJeA6eF7sP"
   },
   "outputs": [
    {
     "name": "stdout",
     "output_type": "stream",
     "text": [
      "Enter K value for Local Beam Search Algorithm (K > 0): 3\n",
      "Goal reached , Pathcost:  27\n",
      "Path => (0, 2) -> (1, 2) -> (2, 2) -> (3, 2) -> (4, 2) -> (4, 3) -> (4, 4) -> (5, 4) -> (6, 4)\n"
     ]
    }
   ],
   "source": [
    "#Invoke algorithm 2 (Should Print the solution, path, cost etc., (As mentioned in the problem))\n",
    "while K <= 0:\n",
    "    K = int(input(\"Enter K value for Local Beam Search Algorithm (K > 0): \"))\n",
    "expandTreeLocalBeam(rootnode.children)"
   ]
  },
  {
   "cell_type": "markdown",
   "metadata": {
    "id": "TOU3Rem6F7sQ"
   },
   "source": [
    "### 5.\tComparitive Analysis (Time and Space Complexity)"
   ]
  },
  {
   "cell_type": "markdown",
   "metadata": {
    "id": "HG6fWwiIF7sQ"
   },
   "source": [
    "\n",
    "1. Greedy best first Search Algorithm:\n",
    "  \n",
    "  \n",
    "    Time Complexity: O(b * d)\n",
    "\n",
    "        - Recursive calls: O(d) (depth of search tree).\n",
    "        \n",
    "        - addNodes(): O(b) (adds up to 4 child nodes).\n",
    "        \n",
    "        - min(): O(b) (finds child with lowest heuristic).\n",
    "\n",
    "\n",
    "    Space Complexity: O(d)\n",
    "\n",
    "        - Call stack: O(d) (recursion depth).\n",
    "        \n",
    "        - parentNode and newParentNode: O(1) (constant space).\n",
    "        \n",
    "        - children list: O(b) (stores child nodes).s\n",
    " "
   ]
  },
  {
   "cell_type": "markdown",
   "metadata": {
    "id": "xMButLKCF7sQ"
   },
   "source": [
    "\n",
    "\n",
    "2. Local Beam Search Algorithm:\n",
    "\n",
    "\n",
    "    Time Complexity: O(K^d) (but reduced in practice due to beam width)\n",
    "\n",
    "        - Iterating listnode: O(K) (processes limited nodes per level).\n",
    "\n",
    "        - addNodes(): O(b)  (adds up to 4 child nodes).\n",
    "\n",
    "        - Sorting childlist: O(n log n) (based on heuristic values).\n",
    "\n",
    "        - Recursive calls: O(d) (search depth).\n",
    "\n",
    "\n",
    "    Space Complexity: O(d)\n",
    "\n",
    "        - listnode: O(K) (limited by beam width).\n",
    "\n",
    "        - childlist: O(b) (stores child nodes).\n",
    "\n",
    "        - Call stack: O(d) (recursive depth)."
   ]
  },
  {
   "cell_type": "markdown",
   "metadata": {
    "id": "y2nXwAlsF7sQ"
   },
   "source": [
    "### 6.\tProvide your comparitive analysis or findings in no more than 3 lines in below section"
   ]
  },
  {
   "cell_type": "markdown",
   "metadata": {
    "id": "si483-zoF7sQ"
   },
   "source": [
    "1) Greedy BFS may quickly locate a path but does not ensure minimal cost.\n",
    "\n",
    "2) Local Beam Search can balance among multiple candidates, often yielding better paths.\n",
    "\n",
    "3) Optimal performance depends on tuning parameters (like beam width k).\n"
   ]
  }
 ],
 "metadata": {
  "colab": {
   "provenance": []
  },
  "kernelspec": {
   "display_name": "Python 3 (ipykernel)",
   "language": "python",
   "name": "python3"
  },
  "language_info": {
   "codemirror_mode": {
    "name": "ipython",
    "version": 3
   },
   "file_extension": ".py",
   "mimetype": "text/x-python",
   "name": "python",
   "nbconvert_exporter": "python",
   "pygments_lexer": "ipython3",
   "version": "3.9.12"
  }
 },
 "nbformat": 4,
 "nbformat_minor": 1
}
